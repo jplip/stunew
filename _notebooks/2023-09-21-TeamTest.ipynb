{
 "cells": [
  {
   "cell_type": "markdown",
   "metadata": {},
   "source": [
    "---\n",
    "toc: true\n",
    "comments: false\n",
    "layout: post\n",
    "title: Team Test\n",
    "description: \n",
    "type: tangibles\n",
    "courses: { compsci: {week: 5} }\n",
    "---"
   ]
  },
  {
   "cell_type": "markdown",
   "metadata": {},
   "source": [
    "Collaboration Review\n",
    "\n",
    "\n",
    "What are the benefits of a team? Explain some of the diveristies that your team has to offer.\n",
    "We can/do different jobs\n",
    "workoads can be less\n",
    "solving assignments with help of others\n",
    "\n",
    "\n",
    "Describe how you will facilitate communication amongst group members.\n",
    "group messages\n",
    "gmail\n",
    "facetime\n",
    "group meetings\n",
    "scrum board\n",
    "\n",
    "\n",
    "How will you hold each person accountable for their portion of the work? Think about dates, review tickets, and peer revies.\n",
    "scrum master assign tasks and make sure they're completed with scrum board"
   ]
  },
  {
   "cell_type": "code",
   "execution_count": 1,
   "metadata": {},
   "outputs": [
    {
     "name": "stdout",
     "output_type": "stream",
     "text": [
      "Hello, World!\n"
     ]
    }
   ],
   "source": [
    "print(\"Hello, World!\")"
   ]
  },
  {
   "cell_type": "markdown",
   "metadata": {},
   "source": [
    "This program will use the command print and will show whatever is written in between the parenthesis."
   ]
  },
  {
   "cell_type": "code",
   "execution_count": 2,
   "metadata": {},
   "outputs": [
    {
     "name": "stdout",
     "output_type": "stream",
     "text": [
      "Double of 2.0 is 4.0\n"
     ]
    }
   ],
   "source": [
    "user_input = input(\"Enter a number: \")\n",
    "\n",
    "try:\n",
    "    # Convert the user's input to a float\n",
    "    user_number = float(user_input)\n",
    "    \n",
    "    # Perform a simple calculation\n",
    "    result = user_number * 2\n",
    "    \n",
    "    # Print the result\n",
    "    print(f\"Double of {user_number} is {result}\")\n",
    "except ValueError:\n",
    "    print(\"Invalid input. Please enter a valid number.\")"
   ]
  },
  {
   "cell_type": "markdown",
   "metadata": {},
   "source": [
    "This program will use the number that is written by the participant and multiply that said number by 2. That will then print with a number double that of the original written."
   ]
  },
  {
   "cell_type": "code",
   "execution_count": 3,
   "metadata": {},
   "outputs": [
    {
     "name": "stdout",
     "output_type": "stream",
     "text": [
      "Original list: [2, 3, 4]\n",
      "Modified list (squared): [4, 9, 16]\n"
     ]
    }
   ],
   "source": [
    "input_str = input(\"Enter a list of numbers separated by commas: \")\n",
    "\n",
    "# Split the input string into a list of strings\n",
    "number_strings = input_str.split(',')\n",
    "\n",
    "# Initialize an empty list to store the converted numbers\n",
    "numbers = []\n",
    "\n",
    "try:\n",
    "    # Convert the strings to integers and add them to the 'numbers' list\n",
    "    for num_str in number_strings:\n",
    "        num = int(num_str)\n",
    "        numbers.append(num)\n",
    "    \n",
    "    # Perform a modification on the list (e.g., squaring each number)\n",
    "    modified_numbers = [num ** 2 for num in numbers]\n",
    "    \n",
    "    # Print the modified list\n",
    "    print(\"Original list:\", numbers)\n",
    "    print(\"Modified list (squared):\", modified_numbers)\n",
    "except ValueError:\n",
    "    print(\"Invalid input. Please enter a list of valid numbers separated by commas.\")"
   ]
  },
  {
   "cell_type": "markdown",
   "metadata": {},
   "source": [
    "This program uses numbers written down by the participant and then adds the exponent ^2 to the original numbers. Then a list of the original numbers are written and then under that line will be the ^2 numbers."
   ]
  },
  {
   "cell_type": "code",
   "execution_count": 4,
   "metadata": {},
   "outputs": [
    {
     "name": "stdout",
     "output_type": "stream",
     "text": [
      "Average: 3.0\n"
     ]
    }
   ],
   "source": [
    "# Get user input for a list of numbers (comma-separated)\n",
    "input_str = input(\"Enter a list of numbers separated by commas: \")\n",
    "\n",
    "# Split the input string into a list of strings\n",
    "number_strings = input_str.split(',')\n",
    "\n",
    "# Initialize an empty list to store the converted numbers\n",
    "numbers = []\n",
    "\n",
    "try:\n",
    "    # Convert the strings to integers and add them to the 'numbers' list\n",
    "    for num_str in number_strings:\n",
    "        num = int(num_str)\n",
    "        numbers.append(num)\n",
    "    \n",
    "    # Calculate the sum of numbers using iteration\n",
    "    total = 0\n",
    "    for num in numbers:\n",
    "        total += num\n",
    "    \n",
    "    # Calculate the average\n",
    "    average = total / len(numbers)\n",
    "    \n",
    "    # Print the average\n",
    "    print(\"Average:\", average)\n",
    "except ValueError:\n",
    "    print(\"Invalid input. Please enter a list of valid numbers separated by commas.\")\n"
   ]
  },
  {
   "cell_type": "markdown",
   "metadata": {},
   "source": [
    "This program uses multiple numbers and then combines them together and then gets the average of the total and prints."
   ]
  },
  {
   "cell_type": "code",
   "execution_count": 5,
   "metadata": {},
   "outputs": [
    {
     "name": "stdout",
     "output_type": "stream",
     "text": [
      "Calculations:\n",
      "Sum: 9.0\n",
      "Mean: 3.0\n",
      "Median: 3.0\n",
      "Standard Deviation: 1.0\n"
     ]
    }
   ],
   "source": [
    "import statistics\n",
    "\n",
    "# Define a function to perform calculations\n",
    "def calculate_statistics(numbers):\n",
    "    # Calculate the sum\n",
    "    total = sum(numbers)\n",
    "    \n",
    "    # Calculate the mean (average)\n",
    "    mean = total / len(numbers)\n",
    "    \n",
    "    # Calculate the median\n",
    "    median = statistics.median(numbers)\n",
    "    \n",
    "    # Calculate the standard deviation\n",
    "    std_dev = statistics.stdev(numbers)\n",
    "    \n",
    "    # Return the results as a dictionary\n",
    "    results = {\n",
    "        \"Sum\": total,\n",
    "        \"Mean\": mean,\n",
    "        \"Median\": median,\n",
    "        \"Standard Deviation\": std_dev\n",
    "    }\n",
    "    \n",
    "    return results\n",
    "\n",
    "# Get user input for a list of numbers (comma-separated)\n",
    "input_str = input(\"Enter a list of numbers separated by commas: \")\n",
    "\n",
    "# Split the input string into a list of strings\n",
    "number_strings = input_str.split(',')\n",
    "\n",
    "# Initialize an empty list to store the converted numbers\n",
    "numbers = []\n",
    "\n",
    "try:\n",
    "    # Convert the strings to floats and add them to the 'numbers' list\n",
    "    for num_str in number_strings:\n",
    "        num = float(num_str)\n",
    "        numbers.append(num)\n",
    "    \n",
    "    # Call the function to calculate statistics\n",
    "    results = calculate_statistics(numbers)\n",
    "    \n",
    "    # Print the results\n",
    "    print(\"Calculations:\")\n",
    "    for key, value in results.items():\n",
    "        print(f\"{key}: {value}\")\n",
    "except ValueError:\n",
    "    print(\"Invalid input. Please enter a list of valid numbers separated by commas.\")\n"
   ]
  },
  {
   "cell_type": "markdown",
   "metadata": {},
   "source": [
    "This program uses the top part to define what the calculations will do to the numbers imputed by the user. Those numbers will then be calculated for the sum, mean, median, and standard deviation."
   ]
  },
  {
   "cell_type": "code",
   "execution_count": 6,
   "metadata": {},
   "outputs": [
    {
     "name": "stdout",
     "output_type": "stream",
     "text": [
      "10 is even.\n"
     ]
    }
   ],
   "source": [
    "# Get user input for a number\n",
    "user_input = input(\"Enter a number: \")\n",
    "\n",
    "try:\n",
    "    # Convert the user's input to an integer\n",
    "    user_number = int(user_input)\n",
    "    \n",
    "    # Check if the number is even or odd\n",
    "    if user_number % 2 == 0:\n",
    "        print(f\"{user_number} is even.\")\n",
    "    else:\n",
    "        print(f\"{user_number} is odd.\")\n",
    "except ValueError:\n",
    "    print(\"Invalid input. Please enter a valid number.\")\n"
   ]
  },
  {
   "cell_type": "markdown",
   "metadata": {},
   "source": [
    "![Sample Image](https://raw.githubusercontent.com/jplip/stunew/main/images/boolean.png)\n"
   ]
  },
  {
   "cell_type": "code",
   "execution_count": 7,
   "metadata": {},
   "outputs": [
    {
     "name": "stdout",
     "output_type": "stream",
     "text": [
      "The area of the rectangle with length 2.0 and width 20.0 is 40.0.\n"
     ]
    }
   ],
   "source": [
    "def calculate_rectangle_area(length, width):\n",
    "    area = length * width\n",
    "    return area\n",
    "\n",
    "# Get user input for the length and width of the rectangle\n",
    "try:\n",
    "    length = float(input(\"Enter the length of the rectangle: \"))\n",
    "    width = float(input(\"Enter the width of the rectangle: \"))\n",
    "    \n",
    "    # Check if the input values are non-negative\n",
    "    if length >= 0 and width >= 0:\n",
    "        # Call the function to calculate the area\n",
    "        area = calculate_rectangle_area(length, width)\n",
    "        \n",
    "        # Print the result\n",
    "        print(f\"The area of the rectangle with length {length} and width {width} is {area}.\")\n",
    "    else:\n",
    "        print(\"Please enter non-negative values for length and width.\")\n",
    "except ValueError:\n",
    "    print(\"Invalid input. Please enter valid numerical values for length and width.\")"
   ]
  },
  {
   "cell_type": "markdown",
   "metadata": {},
   "source": [
    "This program defines the equation for finding the area of a rectangle at the top. Then the program will ask for a number that will be put in the length and then another number for width. It will then use the equation defined to get the area. If the numbers written by the user are negative, will get a value error. "
   ]
  },
  {
   "cell_type": "code",
   "execution_count": 1,
   "metadata": {},
   "outputs": [
    {
     "name": "stdout",
     "output_type": "stream",
     "text": [
      "Weather in san diego:\n",
      "Temperature: 20.26°C\n",
      "Humidity: 81%\n",
      "Description: Moderate rain\n"
     ]
    }
   ],
   "source": [
    "import requests\n",
    "\n",
    "API_KEY = '2f154dace08459a35fe9522ff7de936d'\n",
    "BASE_URL = \"http://api.openweathermap.org/data/2.5/weather?\"\n",
    "\n",
    "def get_weather(city_name):\n",
    "    complete_url = BASE_URL + \"q=\" + city_name + \"&appid=\" + API_KEY\n",
    "    response = requests.get(complete_url)\n",
    "    data = response.json()\n",
    "\n",
    "    if data[\"cod\"] != 404:\n",
    "        main_data = data[\"main\"]\n",
    "        weather_data = data[\"weather\"][0]\n",
    "        temperature = main_data[\"temp\"] - 273.15  # Convert Kelvin to Celsius\n",
    "        humidity = main_data[\"humidity\"]\n",
    "        weather_description = weather_data[\"description\"]\n",
    "\n",
    "        return (f\"Weather in {city_name}:\\n\"\n",
    "                f\"Temperature: {temperature:.2f}°C\\n\"\n",
    "                f\"Humidity: {humidity}%\\n\"\n",
    "                f\"Description: {weather_description.capitalize()}\")\n",
    "    else:\n",
    "        return \"City Not Found!\"\n",
    "\n",
    "city_name = input(\"Enter city name: \")\n",
    "print(get_weather(city_name))"
   ]
  },
  {
   "cell_type": "markdown",
   "metadata": {},
   "source": [
    "This program works with the weather and shows what the user city that is written. Found through website data pulled."
   ]
  }
 ],
 "metadata": {
  "kernelspec": {
   "display_name": "Python 3",
   "language": "python",
   "name": "python3"
  },
  "language_info": {
   "codemirror_mode": {
    "name": "ipython",
    "version": 3
   },
   "file_extension": ".py",
   "mimetype": "text/x-python",
   "name": "python",
   "nbconvert_exporter": "python",
   "pygments_lexer": "ipython3",
   "version": "3.11.5"
  },
  "orig_nbformat": 4
 },
 "nbformat": 4,
 "nbformat_minor": 2
}
