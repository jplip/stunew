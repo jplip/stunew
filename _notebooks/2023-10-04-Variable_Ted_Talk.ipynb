{
 "cells": [
  {
   "cell_type": "markdown",
   "metadata": {},
   "source": [
    "---\n",
    "toc: true\n",
    "comments: false\n",
    "layout: post\n",
    "title: Team Teach Variable\n",
    "description: \n",
    "type: hacks\n",
    "courses: { compsci: {week: 6} }\n",
    "---"
   ]
  },
  {
   "cell_type": "code",
   "execution_count": 1,
   "metadata": {},
   "outputs": [
    {
     "name": "stdout",
     "output_type": "stream",
     "text": [
      "92\n",
      "Koenigsegg\n"
     ]
    }
   ],
   "source": [
    "numStudents = 92\n",
    "print(numStudents)\n",
    "\n",
    "car = \"Koenigsegg\"\n",
    "print(car)"
   ]
  },
  {
   "cell_type": "code",
   "execution_count": 3,
   "metadata": {},
   "outputs": [
    {
     "name": "stdout",
     "output_type": "stream",
     "text": [
      "123 is an integer\n",
      "False is an boolean\n",
      "Justin is a string\n"
     ]
    }
   ],
   "source": [
    "highScore = 123\n",
    "isSunny = False\n",
    "firstName = \"Justin\"\n",
    "print(str(highScore) + \" is an integer\")\n",
    "print(str(isSunny) + \" is an boolean\")\n",
    "print((firstName) + \" is a string\")"
   ]
  },
  {
   "cell_type": "markdown",
   "metadata": {},
   "source": [
    "str above needed because need to define as string for the thing to print"
   ]
  },
  {
   "cell_type": "code",
   "execution_count": 8,
   "metadata": {},
   "outputs": [
    {
     "name": "stdout",
     "output_type": "stream",
     "text": [
      "10\n"
     ]
    }
   ],
   "source": [
    "currentScore = 10\n",
    "highScore = currentScore\n",
    "currentScore = 7\n",
    "print(str(highScore))"
   ]
  },
  {
   "cell_type": "code",
   "execution_count": 6,
   "metadata": {},
   "outputs": [
    {
     "name": "stdout",
     "output_type": "stream",
     "text": [
      "30\n",
      "30\n",
      "25\n"
     ]
    }
   ],
   "source": [
    "num1 = 25\n",
    "num2 = 15\n",
    "num3 = 30\n",
    "num2 = num3\n",
    "num3 = num1\n",
    "num1 = num2\n",
    "print(str(num1))\n",
    "print(str(num2))\n",
    "print(str(num3))"
   ]
  },
  {
   "cell_type": "code",
   "execution_count": 12,
   "metadata": {},
   "outputs": [
    {
     "name": "stdout",
     "output_type": "stream",
     "text": [
      "Expos\n",
      "CPS\n"
     ]
    }
   ],
   "source": [
    "groupClasses = (\"Expos\", \"AFA\", \"Spanish\", \"CPS\")\n",
    "print(groupClasses[0])\n",
    "print(groupClasses[3])"
   ]
  },
  {
   "cell_type": "markdown",
   "metadata": {},
   "source": [
    "^\n",
    "letter numbers and special numbers in strings\n",
    "\n",
    "lists hold elements, variables\n",
    "-spotify songs in a playlists\n",
    "people on a list of attendance"
   ]
  },
  {
   "cell_type": "code",
   "execution_count": 16,
   "metadata": {},
   "outputs": [
    {
     "name": "stdout",
     "output_type": "stream",
     "text": [
      "[23, 25, 96, 55]\n"
     ]
    }
   ],
   "source": [
    "scores1 = [89, 72, 34, 56, 83]\n",
    "scores2 = [23, 25,96, 55]\n",
    "scores1 = scores2\n",
    "print(str(scores1))"
   ]
  },
  {
   "cell_type": "code",
   "execution_count": 17,
   "metadata": {},
   "outputs": [
    {
     "name": "stdout",
     "output_type": "stream",
     "text": [
      "(23, 35, 25, 44)\n"
     ]
    }
   ],
   "source": [
    "scores1 = 23\n",
    "scores2 = 35\n",
    "scores3 = 25\n",
    "scores4 = 44\n",
    "\n",
    "scores = (23, 35, 25, 44)\n",
    "print(str(scores))"
   ]
  },
  {
   "cell_type": "markdown",
   "metadata": {},
   "source": [
    "lists can manage data better and change change certain scores better"
   ]
  },
  {
   "cell_type": "code",
   "execution_count": null,
   "metadata": {},
   "outputs": [],
   "source": [
    "import json\n",
    "lst = [1,2,3,4]"
   ]
  },
  {
   "cell_type": "markdown",
   "metadata": {},
   "source": [
    "Hack 1\n",
    "Sort the variables in the code cell below into these categories and write the adjoining numbers for each type:\n",
    "Integer:\n",
    "List:\n",
    "Boolean:\n",
    "String:"
   ]
  },
  {
   "cell_type": "code",
   "execution_count": 2,
   "metadata": {},
   "outputs": [
    {
     "name": "stdout",
     "output_type": "stream",
     "text": [
      "0\n",
      "('Stampylongnose', 'DanTDM', 'PopularMMO', 'TBNRfrags')\n",
      "False\n",
      "Max Verstappen\n"
     ]
    }
   ],
   "source": [
    "# Integer\n",
    "myMoney = 0\n",
    "print(str(myMoney))\n",
    "\n",
    "# List\n",
    "groupMinecraftYoutubers = (\"Stampylongnose\", \"DanTDM\", \"PopularMMO\", \"TBNRfrags\")\n",
    "print(groupMinecraftYoutubers)\n",
    "\n",
    "#Boolean\n",
    "isTheMoonCheese = False\n",
    "print(str(isTheMoonCheese))\n",
    "\n",
    "#String\n",
    "bestDriverF1 = \"Max Verstappen\"\n",
    "print((bestDriverF1))"
   ]
  },
  {
   "cell_type": "markdown",
   "metadata": {},
   "source": [
    "Hack 2\n",
    "Define the variables from above"
   ]
  },
  {
   "cell_type": "code",
   "execution_count": 8,
   "metadata": {},
   "outputs": [
    {
     "name": "stdout",
     "output_type": "stream",
     "text": [
      "0 is an integer on how much money I have\n",
      "('Stampylongnose', 'DanTDM', 'PopularMMO', 'TBNRfrags') is a list of minecraft youtubers\n",
      "False is an boolean stating information about the moon\n",
      "Max Verstappen is a string with the name of the current best F1 driver\n"
     ]
    }
   ],
   "source": [
    "# Integer\n",
    "myMoney = 0\n",
    "print(str(myMoney) + \" is an integer on how much money I have\")\n",
    "\n",
    "# List\n",
    "groupMinecraftYoutubers = (\"Stampylongnose\", \"DanTDM\", \"PopularMMO\", \"TBNRfrags\")\n",
    "print(str(groupMinecraftYoutubers) + \" is a list of minecraft youtubers\")\n",
    "\n",
    "#Boolean\n",
    "isTheMoonCheese = False\n",
    "print(str(isTheMoonCheese) + \" is an boolean stating information about the moon\")\n",
    "\n",
    "#String\n",
    "bestDriverF1 = \"Max Verstappen\"\n",
    "print((bestDriverF1) + \" is a string with the name of the current best F1 driver\")"
   ]
  }
 ],
 "metadata": {
  "kernelspec": {
   "display_name": "Python 3",
   "language": "python",
   "name": "python3"
  },
  "language_info": {
   "codemirror_mode": {
    "name": "ipython",
    "version": 3
   },
   "file_extension": ".py",
   "mimetype": "text/x-python",
   "name": "python",
   "nbconvert_exporter": "python",
   "pygments_lexer": "ipython3",
   "version": "3.11.5"
  },
  "orig_nbformat": 4
 },
 "nbformat": 4,
 "nbformat_minor": 2
}
