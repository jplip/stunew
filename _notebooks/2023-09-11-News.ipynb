{
 "cells": [
  {
   "cell_type": "markdown",
   "metadata": {},
   "source": [
    "---\n",
    "toc: true\n",
    "comments: false\n",
    "layout: post\n",
    "title: Data Pulling\n",
    "description: \n",
    "type: tangibles\n",
    "courses: { compsci: {week: 3} }\n",
    "---"
   ]
  },
  {
   "cell_type": "code",
   "execution_count": 3,
   "metadata": {},
   "outputs": [
    {
     "data": {
      "text/markdown": [
       "'Fortnite,' developed by Epic Games, shutting down in China on November 15"
      ],
      "text/plain": [
       "<IPython.core.display.Markdown object>"
      ]
     },
     "metadata": {},
     "output_type": "display_data"
    },
    {
     "data": {
      "text/markdown": [
       "Hong Kong CNN Business —\n",
       "\n",
       "The Chinese version of hit video game “Fortnite” is shutting down this month.\n",
       "\n",
       "The game stopped accepting registrations for new players and was no longer available for download as of Monday, according to a statement on its website. Its servers will be shut down November 15, meaning players will no longer be able to log into the game.\n",
       "\n",
       "The blockbuster multiplayer battle title, developed by Epic Games, was launched in China in July 2018 in partnership with Tencent (TCEHY). The Chinese internet and gaming giant bought a roughly 40% stake in Epic Games nearly a decade ago.\n",
       "\n",
       "In its most popular mode, “Fortnite” pits up to 100 players against each other in a fight for survival. The game has become a cultural phenomenon, and last year hosted musical performances by artists such as Marshmello and Travis Scott, as well as three movies by director Christopher Nolan.\n",
       "\n",
       "The game had more than 350 million registered players as of May 2020, according to its Twitter account. It’s the flagship title of Epic Games, which in June said it has more than 500 million accounts across its main titles and its online video game store.\n",
       "\n",
       "This week’s announcement described Fortnite in China as a “beta test” version of the game. It did not say why the game was shutting down, but thanked players who participated in that version.\n",
       "\n",
       "Tencent declined to comment to CNN Business when asked for more details about the Chinese version of the title and the reason for shutting it down. Epic Games declined to comment beyond the statement announcing the closure.\n",
       "\n",
       "The game was “never approved” by the Chinese government and therefore could not officially launch and monetize its services, tweeted Daniel Ahmad, a senior analyst at Niko Partners who covers the video games market in China and Asia.\n",
       "\n",
       "“Fortnite” operates largely as a free-to-play game with in-app purchases — meaning players can download the game at no cost, but then spend real money on items such as costumes for their characters.\n",
       "\n",
       "Ahmad added that the battle royale genre “has been strictly regulated in China.”\n",
       "\n",
       "Chinese authorities have also been cracking down on video games lately. In August, the country barred online gamers under the age of 18 from playing on weekdays and limited their play to just three hours most weekends.\n",
       "\n",
       "In September, state-run news agency Xinhua reported that authorities had called in Tencent, NetEase and other companies to discuss restrictions around the streaming and playing of video games among minors.\n",
       "\n",
       "During the meeting, companies were “urged to break from the solitary focus of pursuing profit or attracting players and fans,” according to the report.\n",
       "\n",
       "— Michelle Toh contributed to this report."
      ],
      "text/plain": [
       "<IPython.core.display.Markdown object>"
      ]
     },
     "metadata": {},
     "output_type": "display_data"
    },
    {
     "name": "stdout",
     "output_type": "stream",
     "text": [
      "\n",
      "\n"
     ]
    }
   ],
   "source": [
    "from newspaper import Article\n",
    "from IPython.display import display, Markdown\n",
    "urls = [\"https://www.cnn.com/2021/11/03/tech/fortnite-china-shutting-down-intl-hnk/index.html\",\n",
    "        ]\n",
    "for url in urls:\n",
    "    article = Article(url)\n",
    "    article.download()\n",
    "    article.parse()\n",
    "display(Markdown(article.title))\n",
    "display(Markdown(article.text))\n",
    "print(\"\\n\")"
   ]
  },
  {
   "cell_type": "code",
   "execution_count": 25,
   "metadata": {},
   "outputs": [
    {
     "name": "stdout",
     "output_type": "stream",
     "text": [
      "Philippines\n"
     ]
    },
    {
     "data": {
      "text/markdown": [
       "The Philippines ( ; Filipino: Pilipinas), officially the Republic of the Philippines (Filipino: Republika ng Pilipinas), is an archipelagic country in Southeast Asia. In the western Pacific Ocean, it consists of 7,641 islands which are broadly categorized in three main geographical divisions from north to south: Luzon, Visayas, and Mindanao. The Philippines is bounded by the South China Sea to the west, the Philippine Sea to the east, and the Celebes Sea to the south. It shares maritime borders with Taiwan to the north, Japan to the northeast, Palau to the east and southeast, Indonesia to the south, Malaysia to the southwest, Vietnam to the west, and China to the northwest. It is the world's twelfth-most-populous country, with diverse ethnicities and cultures. Manila is the country's capital, and its most populated city is Quezon City; both are within Metro Manila.\n",
       "Negritos, the archipelago's earliest inhabitants, were followed by waves of Austronesian peoples. The adoption of Animism, Hinduism, and Islam established island-kingdoms ruled by datus, rajas, and sultans. The arrival of Ferdinand Magellan, a Portuguese explorer leading a fleet for Spain, marked the beginning of Spanish colonization. In 1543, Spanish explorer Ruy López de Villalobos named the archipelago Las Islas Filipinas in honor of King Philip II of Castile. Spanish settlement via New Spain, beginning in 1565, led to the Philippines becoming ruled by the Crown of Castile, as part of the Spanish Empire, for more than 300 years. Catholic Christianity became the dominant religion, and Manila became the western hub of trans-Pacific trade. The Philippine Revolution began in 1896, which became entwined with the 1898 Spanish–American War. Spain ceded the territory to the United States, and Filipino revolutionaries declared the First Philippine Republic. The ensuing Philippine–American War ended with the United States controlling the territory until the Japanese invasion of the islands during World War II. After  the United States retook the Philippines from the Japanese, the Philippines became independent in 1946. The country has had a tumultuous experience with democracy, which included the overthrow of a decades-long dictatorship in a nonviolent revolution.\n",
       "The Philippines is an emerging market and a newly industrialized country, whose economy is transitioning from being agricultural to service- and manufacturing-centered. It is a founding member of the United Nations, the World Trade Organization, ASEAN, the Asia-Pacific Economic Cooperation forum, and the East Asia Summit; it is a major non-NATO ally of the United States. Its location as an island country on the Pacific Ring of Fire and close to the equator makes it prone to earthquakes and typhoons. The Philippines has a variety of natural resources and a globally-significant level of biodiversity."
      ],
      "text/plain": [
       "<IPython.core.display.Markdown object>"
      ]
     },
     "metadata": {},
     "output_type": "display_data"
    },
    {
     "name": "stdout",
     "output_type": "stream",
     "text": [
      "Counter-Strike: Global Offensive\n"
     ]
    },
    {
     "data": {
      "text/markdown": [
       "Counter-Strike: Global Offensive (CS:GO) is a 2012 multiplayer tactical first-person shooter developed by Valve and Hidden Path Entertainment. It is the fourth game in the Counter-Strike series. Developed for over two years, Global Offensive was released for OS X, PlayStation 3, Windows, and Xbox 360 in August 2012, and for Linux in 2014. Valve continues to regularly update the game, both with smaller balancing patches and larger content additions.\n",
       "The game pits two teams, Terrorists and Counter-Terrorists, against each other in different objective-based game modes. The most common game modes involve the Terrorists planting a bomb while Counter-Terrorists attempt to stop them, or Counter-Terrorists attempting to rescue hostages that the Terrorists have captured. There are nine official game modes, all of which have distinct characteristics specific to that mode. The game also has matchmaking support that allows players to play on dedicated Valve servers, in addition to community-hosted servers with custom maps and game modes. A battle-royale game-mode, \"Danger Zone\", was introduced in late 2018.\n",
       "Global Offensive received positive reviews from critics on release, who praised the game for its gameplay and faithfulness to the Counter-Strike series, though it was criticized for some early features and the differences between the console and PC versions. Since its release, it has drawn in an estimated 11 million players per month and remains one of the most played games on Valve's Steam platform. In December 2018, Valve transitioned the game to a free-to-play model, focusing on revenue from cosmetic items.\n",
       "The game has an active esports scene, continuing the history of international competitive play from previous games in the series. Teams compete in professional leagues and tournaments, with the game often cited as being among the best in esports.\n",
       "A major update bringing the game to the Source 2 engine, titled Counter-Strike 2, was announced on March 22, 2023 and is slated to release in summer 2023, with limited test access being made to select players.\n",
       "\n"
      ],
      "text/plain": [
       "<IPython.core.display.Markdown object>"
      ]
     },
     "metadata": {},
     "output_type": "display_data"
    }
   ],
   "source": [
    "import wikipedia \n",
    "from IPython.display import display, Markdown # add for Jupyter\n",
    "\n",
    "terms = [\"Philippines\", \"Counter-Strike: Global Offensive\"]\n",
    "for term in terms:\n",
    "    # Search for a page \n",
    "    result = wikipedia.search(term)\n",
    "    # Get the summary of the first result\n",
    "    summary = wikipedia.summary(result[0])\n",
    "    print(term) \n",
    "    # print(summary) # console display\n",
    "    display(Markdown(summary)) # Jupyter display"
   ]
  }
 ],
 "metadata": {
  "kernelspec": {
   "display_name": "Python 3",
   "language": "python",
   "name": "python3"
  },
  "language_info": {
   "codemirror_mode": {
    "name": "ipython",
    "version": 3
   },
   "file_extension": ".py",
   "mimetype": "text/x-python",
   "name": "python",
   "nbconvert_exporter": "python",
   "pygments_lexer": "ipython3",
   "version": "3.11.5"
  },
  "orig_nbformat": 4
 },
 "nbformat": 4,
 "nbformat_minor": 2
}
