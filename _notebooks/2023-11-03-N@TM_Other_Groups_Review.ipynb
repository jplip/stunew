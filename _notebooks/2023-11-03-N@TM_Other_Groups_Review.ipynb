{
 "cells": [
  {
   "cell_type": "markdown",
   "metadata": {},
   "source": [
    "---\n",
    "toc: true\n",
    "comments: false\n",
    "layout: post\n",
    "title: N@TM\n",
    "description: \n",
    "type: tangibles\n",
    "courses: { compsci: {week: 12} }\n",
    "---"
   ]
  },
  {
   "cell_type": "markdown",
   "metadata": {},
   "source": [
    "# What I Worked On\n",
    "- I was the backend developer and worked on imputing data originally but then we eventually switched to an online api with data already on it. After that I worked on just setting up the data so that it worked with the api and url. After completing that I added some functions to the api like search and a get random and then deployed it onto the AWS."
   ]
  },
  {
   "cell_type": "markdown",
   "metadata": {},
   "source": [
    "# Code\n",
    "- This is some code that I worked on and it's the api which pulls data from our json and has some functions at the bottom to add more onto the api just pulling data."
   ]
  },
  {
   "cell_type": "code",
   "execution_count": null,
   "metadata": {},
   "outputs": [],
   "source": [
    "cards_api = Blueprint('cards_api', __name__,\n",
    "                  url_prefix='/api/cards')\n",
    "\n",
    "# API docs https://flask-restful.readthedocs.io/en/latest/api.html\n",
    "api = Api(cards_api)\n",
    "\n",
    "def beautify_json_data(json_file_path):\n",
    "    try:\n",
    "        with open(json_file_path, 'r') as json_file:\n",
    "            data = json.load(json_file)\n",
    "\n",
    "        beautified_data = []\n",
    "        for item in data.get('items', []):\n",
    "            beautified_item = {\n",
    "                \"name\": item.get(\"name\", \"\"),\n",
    "                \"maxLevel\": item.get(\"maxLevel\", 0),\n",
    "            }\n",
    "\n",
    "            medium_icon_url = item.get(\"iconUrls\", {}).get(\"medium\", \"\")\n",
    "            if medium_icon_url:\n",
    "                beautified_item[\"medium\"] = medium_icon_url\n",
    "\n",
    "            beautified_data.append(beautified_item)\n",
    "\n",
    "        return beautified_data  # Return the processed data as a list\n",
    "\n",
    "    except FileNotFoundError:\n",
    "        return {\"error\": \"File not found\"}\n",
    "    except json.JSONDecodeError:\n",
    "        return {\"error\": \"Invalid JSON format in the file\"}\n",
    "\n",
    "\n",
    "beautify_json_data(\"carddb.json\")\n",
    "\n",
    "\n",
    "# getJokes()\n",
    "class _Read(Resource):\n",
    "    def get(self):\n",
    "        json_list = []\n",
    "        json_list.append(beautify_json_data('carddb.json'))\n",
    "        return jsonify(json_list)\n",
    "\n",
    "class _ReadRandom(Resource):\n",
    "    def get(self):\n",
    "        beautified_data = beautify_json_data('carddb.json')\n",
    "        random_item = random.choice(beautified_data)\n",
    "        return jsonify(random_item)\n",
    "    \n",
    "class _Search(Resource):\n",
    "    def get(self):\n",
    "        query = request.args.get('query')  # Get the query parameter\n",
    "        if not query:\n",
    "            return {\"error\": \"No query provided\"}, 400\n",
    "\n",
    "        beautified_data = beautify_json_data('carddb.json')\n",
    "        results = [item for item in beautified_data if query.lower() in item['name'].lower()]\n",
    "\n",
    "        return jsonify(results)\n",
    "\n",
    "class _Count(Resource):\n",
    "    def get(self):\n",
    "        beautified_data = beautify_json_data('carddb.json')\n",
    "        count = len(beautified_data)\n",
    "        return {\"count\": count}\n",
    "\n",
    "api.add_resource(_Read, '/')\n",
    "api.add_resource(_ReadRandom, '/random')\n",
    "api.add_resource(_Search, '/search')\n",
    "api.add_resource(_Count, '/count')"
   ]
  },
  {
   "cell_type": "markdown",
   "metadata": {},
   "source": [
    "# Me Showcasing\n",
    "![Me Showcasing 1](https://raw.githubusercontent.com/jplip/stunew/main/images/85C78A13-FD7A-418D-9E38-E236C5495B08.jpeg)\n",
    "![Me Showcasing 2](https://raw.githubusercontent.com/jplip/stunew/main/images/E0446D75-E97A-4AC7-BA6F-E270454AEC43.jpeg)\n",
    "\n",
    "# Reflection on the Night\n",
    "-   I remeber getting there and was anxious. I saw some friends in the class and went to go say hi before setting up. After getting everything ready, we started presenting to whoever was interested/came up to us. It was getting easier as time went on but I was still counting down the time. After we were done, I went around just to see what other groups were doing and found some really good ones.\n",
    "-   I think event was good as a run for me and my group to show off our work that we've done over the past few weeks. Although I feel that we could've done more, I'm glad I got this opportunity to showcase and also see what others have been working on. I see the level that we are supposed to be working at and to show off. I will strive to do better in the future to make even better works.\n",
    "\n",
    "# Review of Other Teams\n",
    "-   CSSE Period 3 Table 1 7:30pm Lopez's Room\n",
    "    -   I really liked their project and what they did. They made a game that had a sandbox build like the old pokemon games. It was really cool to see what they were doing and I want to make something like that. It was really smooth and ran well on their computer. I definetly would like to see how far that game can go if there was even more time as they didn't fully finish their combat function as there was the same animation for each attack. With more time, they could make something way more cooler."
   ]
  }
 ],
 "metadata": {
  "language_info": {
   "name": "python"
  },
  "orig_nbformat": 4
 },
 "nbformat": 4,
 "nbformat_minor": 2
}
